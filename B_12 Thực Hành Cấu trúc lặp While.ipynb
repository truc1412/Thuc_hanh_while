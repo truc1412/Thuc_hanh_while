{
 "cells": [
  {
   "cell_type": "markdown",
   "id": "4bb7ce8c",
   "metadata": {},
   "source": [
    "# Thực Hành Vòng lặp While"
   ]
  },
  {
   "cell_type": "code",
   "execution_count": 1,
   "id": "31713936",
   "metadata": {},
   "outputs": [
    {
     "name": "stdout",
     "output_type": "stream",
     "text": [
      "1015\n",
      "1050\n",
      "1085\n",
      "1120\n",
      "1155\n",
      "1190\n",
      "1225\n",
      "1260\n",
      "1295\n",
      "1330\n",
      "1365\n",
      "1400\n",
      "1435\n",
      "1470\n",
      "1505\n",
      "1540\n",
      "1575\n",
      "1610\n",
      "1645\n",
      "1680\n",
      "1715\n",
      "1750\n",
      "1785\n",
      "1820\n",
      "1855\n",
      "1890\n",
      "1925\n",
      "1960\n",
      "1995\n",
      "2030\n",
      "2065\n",
      "2100\n",
      "2135\n",
      "2170\n",
      "2205\n",
      "2240\n",
      "2275\n",
      "2310\n",
      "2345\n",
      "2380\n",
      "2415\n",
      "2450\n",
      "2485\n",
      "2520\n",
      "2555\n",
      "2590\n",
      "2625\n",
      "2660\n",
      "2695\n"
     ]
    }
   ],
   "source": [
    "\"\"\"\n",
    "Bài 1:viết chương trình in ra tất cả các số chia hết cho 5 và 7 trong khoảng từ 1000 đến 2700\n",
    "\n",
    "\"\"\"\n",
    "\n",
    "n=1000\n",
    "while n<2700:\n",
    "    if n%5==0 and n%7==0:\n",
    "        print(n)\n",
    "    n+=1"
   ]
  },
  {
   "cell_type": "code",
   "execution_count": 2,
   "id": "4ddcd58c",
   "metadata": {},
   "outputs": [
    {
     "name": "stdout",
     "output_type": "stream",
     "text": [
      "Nhập n 4\n",
      "****\n",
      "***\n",
      "**\n",
      "*\n"
     ]
    }
   ],
   "source": [
    "\"\"\"\n",
    "Bài 2 : Viết chương trình nhập vào chiều cao tam giác vuông và in ra hình tam giác có hình dạng như sau:\n",
    "*****\n",
    "****\n",
    "***\n",
    "**\n",
    "*\n",
    "\"\"\"\n",
    "n=int(input(\"Nhập n \"))\n",
    "while n>=1:\n",
    "      print(\"*\"*n)\n",
    "      n-=1"
   ]
  },
  {
   "cell_type": "code",
   "execution_count": 3,
   "id": "d7a43af9",
   "metadata": {},
   "outputs": [
    {
     "name": "stdout",
     "output_type": "stream",
     "text": [
      "Nhập n 4\n",
      "* * * * \n",
      "* * * \n",
      "* * \n",
      "* \n"
     ]
    }
   ],
   "source": [
    "\"\"\"\n",
    "Bài 3: Viết chương trình nhập vào chiều cao của tam giác vuông và in ra tam giác có hình dạng như sau:\n",
    "* * * * * *\n",
    "* * * * *\n",
    "* * * * \n",
    "* * * \n",
    "* * \n",
    "*\n",
    "\"\"\"\n",
    "n=int(input(\"Nhập n \"))\n",
    "while n>=1:\n",
    "      print(\"* \"*n)\n",
    "      n-=1\n"
   ]
  },
  {
   "cell_type": "code",
   "execution_count": 9,
   "id": "1a6f16df",
   "metadata": {},
   "outputs": [
    {
     "name": "stdout",
     "output_type": "stream",
     "text": [
      "Nhập n 10\n",
      "* - * - * - * - * - \n",
      "* - * - * - * - * \n",
      "* - * - * - * - \n",
      "* - * - * - * \n",
      "* - * - * - \n",
      "* - * - * \n",
      "* - * - \n",
      "* - * \n",
      "* - \n",
      "* \n"
     ]
    }
   ],
   "source": [
    "\"\"\"\n",
    "Bài 4: Viết chương trình nhập vào chiều cao tam giác vuông và in ra tam giác có hình dạng như sau:\n",
    "* - * - *\n",
    "* - * -\n",
    "* - *\n",
    "* -\n",
    "*\n",
    "\"\"\"\n",
    "n=int(input(\"Nhập n \"))\n",
    "a=n\n",
    "while a>=1:\n",
    "    if a%2 == 0:\n",
    "        b=a//2\n",
    "        print(\"* - \"*b)\n",
    "        a-=1\n",
    "    else:\n",
    "        b=a//2 + 1\n",
    "        print(\"* - \"*b+\"\\b\\b\")\n",
    "        a-=1"
   ]
  },
  {
   "cell_type": "code",
   "execution_count": 4,
   "id": "6c9d2b0c",
   "metadata": {},
   "outputs": [
    {
     "name": "stdout",
     "output_type": "stream",
     "text": [
      "Nhập n: 4\n",
      "2.083333333333333\n"
     ]
    }
   ],
   "source": [
    "\"\"\"\n",
    "Bài 5: Viết chương trình bằng while  để tìm tổng dãy số: 1/1 + 1/2 + 1/3 + 1/4 + ... với số phần tử nhập từ bàn phím.\n",
    "\"\"\"\n",
    "\n",
    "n=int(input(\"Nhập n: \"))\n",
    "a=1\n",
    "t=0\n",
    "while a<=n:\n",
    "    t=t+(1/a)\n",
    "    a+=1\n",
    "print(t)"
   ]
  },
  {
   "cell_type": "code",
   "execution_count": 18,
   "id": "07669a93",
   "metadata": {},
   "outputs": [
    {
     "name": "stdout",
     "output_type": "stream",
     "text": [
      "Nhập x: 5\n",
      "72.62232005070547\n"
     ]
    }
   ],
   "source": [
    "\"\"\"\n",
    "Bài 6: Viết chương trình bằng while để tìm tổng dãy số: 1 - x2/2! + x4/4! - ... với giá trị x và số phần tử nhập từ bàn phím.\n",
    "\"\"\"\n",
    "import math\n",
    "x=int(input(\"Nhập x: \"))\n",
    "i=1\n",
    "sum=0\n",
    "sign=1\n",
    "while i<=x:\n",
    "    sum=sum+ sign*x**(2*i)/math.factorial(2*i)\n",
    "    i+=1\n",
    "print(sum)"
   ]
  },
  {
   "cell_type": "code",
   "execution_count": 6,
   "id": "f062542f",
   "metadata": {},
   "outputs": [
    {
     "name": "stdout",
     "output_type": "stream",
     "text": [
      "Nhập số thứ nhất: 12\n",
      "Nhập số thứ hai: 4\n",
      "Ước chung lớn nhất là: 4\n"
     ]
    }
   ],
   "source": [
    "\"\"\"\n",
    "Bài 7: Viết chương trình bằng while để tìm ước số chung lớn nhất của hai số được nhập từ bàn phím\n",
    "\"\"\"\n",
    "a=int(input(\"Nhập số thứ nhất: \"))\n",
    "b=int(input(\"Nhập số thứ hai: \"))\n",
    "if a==0 or b==0:\n",
    "    print(\"Ước chung lớn nhất là:\",a+b)\n",
    "else:\n",
    "    while(a!=b):\n",
    "        if (a>b):\n",
    "            a=a-b\n",
    "        else:\n",
    "            b=b-a\n",
    "print(\"Ước chung lớn nhất là:\",a)"
   ]
  },
  {
   "cell_type": "code",
   "execution_count": 16,
   "id": "a26a6c45",
   "metadata": {},
   "outputs": [
    {
     "name": "stdout",
     "output_type": "stream",
     "text": [
      "Nhập số thứ nhất: 10\n",
      "Nhập số thứ hai: 7\n",
      "Bội chung nhỏ nhất của 10 và 7 là 70\n"
     ]
    }
   ],
   "source": [
    "'''\n",
    "Bài 8: Viết chương trình bằng while để tìm bội số chung nhỏ nhất của hai số bất kỳ được nhập từ bàn phím và không sử dụng ước số \n",
    "chung lớn nhất (USCLN) của hai số đó\n",
    "'''\n",
    "a=int(input(\"Nhập số thứ nhất: \"))\n",
    "b=int(input(\"Nhập số thứ hai: \"))\n",
    "if a>b:\n",
    "    bcnn=a\n",
    "elif a<b:\n",
    "    bcnn=b\n",
    "while True:\n",
    "    if bcnn % a ==0 and bcnn % b ==0:\n",
    "        print(f\"Bội chung nhỏ nhất của {a} và {b} là {bcnn}\")\n",
    "        break\n",
    "    bcnn+=1"
   ]
  },
  {
   "cell_type": "code",
   "execution_count": 17,
   "id": "b4460c5d",
   "metadata": {},
   "outputs": [
    {
     "name": "stdout",
     "output_type": "stream",
     "text": [
      "    *    \n",
      "   ***   \n",
      "  *****  \n",
      " ******* \n",
      "  *****  \n",
      "   ***   \n",
      "    *    \n"
     ]
    }
   ],
   "source": [
    "\"\"\"\n",
    "Bài 9: viết chương trình dùng while Vẽ hình kim cương bằng dấu sao\n",
    "\"\"\"\n",
    "a=1 \n",
    "while a<=7:\n",
    "    print(' '*((7-a)//2),'*'*a,' '*((7-a)//2))\n",
    "    a+=2\n",
    "a=5\n",
    "while a>0:\n",
    "    print(' '*((7-a)//2),'*'*a,' '*((7-a)//2))\n",
    "    a-=2"
   ]
  },
  {
   "attachments": {
    "image.png": {
     "image/png": "[encoded data removed]"
    }
   },
   "cell_type": "markdown",
   "id": "12100c28",
   "metadata": {},
   "source": [
    "![image.png](attachment:image.png)"
   ]
  },
  {
   "cell_type": "markdown",
   "id": "6be2e4a3",
   "metadata": {},
   "source": [
    "# \"\"\"\n",
    "Bài 10: Viết chương trình mô phỏng trò chơi kéo búa bao theo luật chơi như sau:\n",
    "Quy ước : 1 - Búa,2-kéo,3-bao\n",
    "khi trò chơi bắt đầu , yêu cầu người chơi nhập 1 số từ bàn phím đại diện cho kéo ,búa,bao\n",
    "chương trình tự random ra một lựa chọn từ 1 đến 3\n",
    "Nếu người chơi thua thì tiếp tục chơi cho đến khi kết thúc chương trình\n",
    "ví dụ:\n",
    "Lựa chọn(1-Búa, 2-Kéo,3-Bao): 1\n",
    "Máy tính chọn : 3\n",
    "Người chơi thua\n",
    "\n",
    "Lựa chọn(1-Búa, 2-Kéo,3-Bao): 2\n",
    "Máy tính chọn : 1\n",
    "Người chơi thua\n",
    "\n",
    "Lựa chọn(1-Búa, 2-Kéo,3-Bao): 1\n",
    "Máy tính chọn : 2\n",
    "Người chơi thắng\n",
    "\n",
    "\"\"\"\n"
   ]
  },
  {
   "cell_type": "code",
   "execution_count": 33,
   "id": "a02c399b",
   "metadata": {},
   "outputs": [
    {
     "name": "stdout",
     "output_type": "stream",
     "text": [
      "1-Búa,2-Kéo,3-Bao: 3\n",
      "Máy tính chọn 3\n",
      "Hòa nhau\n",
      "1-Búa,2-Kéo,3-Bao: 2\n",
      "Máy tính chọn 3\n",
      "Người chơi thắng\n"
     ]
    }
   ],
   "source": [
    "import random\n",
    "while True:\n",
    "    nc=int(input(\"1-Búa,2-Kéo,3-Bao: \"))\n",
    "    may=int(random.randint(1,3))\n",
    "    print(f\"Máy tính chọn {may}\")\n",
    "    if may==nc:\n",
    "        print(\"Hòa nhau\")\n",
    "    elif may==1:\n",
    "        if nc==2:\n",
    "            print(\"Người chơi thua\")\n",
    "        elif nc==3:\n",
    "            print(\"Người chơi thắng\")\n",
    "            break\n",
    "    elif may==2:\n",
    "        if nc==1:\n",
    "            print(\"Người chơi thắng\")\n",
    "            break\n",
    "        elif nc==3:\n",
    "            print(\"Người chơi thua\")\n",
    "    elif may==3:\n",
    "        if nc==2:\n",
    "            print(\"Người chơi thắng\")\n",
    "            break       \n",
    "        elif nc==1:\n",
    "            print(\"Người chơi thua\")\n",
    "    "
   ]
  }
 ],
 "metadata": {
  "kernelspec": {
   "display_name": "Python 3 (ipykernel)",
   "language": "python",
   "name": "python3"
  },
  "language_info": {
   "codemirror_mode": {
    "name": "ipython",
    "version": 3
   },
   "file_extension": ".py",
   "mimetype": "text/x-python",
   "name": "python",
   "nbconvert_exporter": "python",
   "pygments_lexer": "ipython3",
   "version": "3.9.13"
  }
 },
 "nbformat": 4,
 "nbformat_minor": 5
}
